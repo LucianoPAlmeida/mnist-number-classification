{
 "cells": [
  {
   "cell_type": "code",
   "execution_count": 2,
   "metadata": {},
   "outputs": [],
   "source": [
    "%matplotlib inline\n",
    "\n",
    "import numpy as np\n",
    "import tensorflow as tf\n",
    "import matplotlib.pyplot as plt\n",
    "from sklearn.preprocessing import LabelBinarizer"
   ]
  },
  {
   "cell_type": "code",
   "execution_count": 4,
   "metadata": {},
   "outputs": [
    {
     "name": "stdout",
     "output_type": "stream",
     "text": [
      "Extracting MNIST_data/train-images-idx3-ubyte.gz\n",
      "Extracting MNIST_data/train-labels-idx1-ubyte.gz\n",
      "Extracting MNIST_data/t10k-images-idx3-ubyte.gz\n",
      "Extracting MNIST_data/t10k-labels-idx1-ubyte.gz\n"
     ]
    }
   ],
   "source": [
    "from tensorflow.examples.tutorials.mnist import input_data\n",
    "mnist = input_data.read_data_sets('MNIST_data', one_hot=True)"
   ]
  },
  {
   "cell_type": "markdown",
   "metadata": {},
   "source": [
    "Visualizing an image data set sample"
   ]
  },
  {
   "cell_type": "code",
   "execution_count": 5,
   "metadata": {},
   "outputs": [
    {
     "name": "stdout",
     "output_type": "stream",
     "text": [
      "[0. 0. 0. 0. 1. 0. 0. 0. 0. 0.]\n"
     ]
    },
    {
     "data": {
      "image/png": "[encoded data removed]",
      "text/plain": [
       "<Figure size 432x288 with 1 Axes>"
      ]
     },
     "metadata": {},
     "output_type": "display_data"
    }
   ],
   "source": [
    "img = mnist.train.images[1]\n",
    "label = mnist.train.labels[2]\n",
    "plt.imshow(img.reshape((28, 28)), cmap='Greys_r')\n",
    "print(label)\n"
   ]
  },
  {
   "cell_type": "markdown",
   "metadata": {},
   "source": [
    "Defining the network "
   ]
  },
  {
   "cell_type": "code",
   "execution_count": 6,
   "metadata": {},
   "outputs": [],
   "source": [
    "def conv_net(inputs):\n",
    "    conv = tf.layers.conv2d(inputs, 32, (5,5), padding='same', activation=tf.nn.relu)\n",
    "    \n",
    "    conv = tf.layers.max_pooling2d(conv,(2,2), (2,2), padding='same')\n",
    "\n",
    "    conv = tf.layers.conv2d(conv, 64, (5,5), padding='same', activation=tf.nn.relu)\n",
    "\n",
    "    conv = tf.layers.max_pooling2d(conv,(2,2), (2,2), padding='same')\n",
    "        \n",
    "    conv = tf.contrib.layers.flatten(conv)\n",
    "    \n",
    "    conv = tf.contrib.layers.fully_connected(conv, 1024, activation_fn=tf.nn.relu)\n",
    "        \n",
    "    conv = tf.contrib.layers.fully_connected(conv, 10, activation_fn=None)\n",
    "\n",
    "    return conv"
   ]
  },
  {
   "cell_type": "code",
   "execution_count": 7,
   "metadata": {},
   "outputs": [],
   "source": [
    "x = tf.placeholder(dtype=tf.float32, shape=[None, 28, 28, 1], name='x')\n",
    "y = tf.stop_gradient(tf.placeholder(dtype=tf.float32, shape=[None, 10], name='y'))\n",
    "\n",
    "logits = conv_net(x)\n",
    "\n",
    "logits = tf.identity(logits, name='logits')\n",
    "\n",
    "predictions = tf.nn.softmax(logits, name='predictions')\n",
    "\n",
    "cost = tf.reduce_mean(tf.nn.softmax_cross_entropy_with_logits_v2(logits=logits, labels=y))\n",
    "optimizer = tf.train.AdamOptimizer(learning_rate=0.00001).minimize(cost)\n",
    "\n",
    "correct_pred = tf.equal(tf.argmax(logits, 1), tf.argmax(y, 1))\n",
    "accuracy = tf.reduce_mean(tf.cast(correct_pred, tf.float32), name='accuracy')"
   ]
  },
  {
   "cell_type": "markdown",
   "metadata": {},
   "source": [
    "Network training hyper parameters"
   ]
  },
  {
   "cell_type": "code",
   "execution_count": 8,
   "metadata": {},
   "outputs": [],
   "source": [
    "epochs = 70\n",
    "batch_size = 512"
   ]
  },
  {
   "cell_type": "markdown",
   "metadata": {},
   "source": [
    "Training network"
   ]
  },
  {
   "cell_type": "code",
   "execution_count": 9,
   "metadata": {},
   "outputs": [],
   "source": [
    "#Training helper functions    \n",
    "\n",
    "def train_neural_network(session, optimizer, feature_batch, label_batch):\n",
    "    session.run(optimizer, feed_dict={\n",
    "        x: feature_batch,\n",
    "        y: label_batch\n",
    "    })\n",
    "    \n",
    "def print_training_stats(session, epoch, feature_batch, label_batch, validation_feature, validation_label, cost, accuracy):\n",
    "    loss = sess.run(cost, feed_dict={\n",
    "                x: feature_batch,\n",
    "                y: label_batch })\n",
    "    validation_accuracy = sess.run(accuracy, feed_dict={\n",
    "                x: validation_feature,\n",
    "                y: validation_label })\n",
    "    print('Epoch {:>2}, Loss: {:>10.4f} Validation Accuracy: {:.6f}'.format(epoch + 1, loss, validation_accuracy))\n",
    "    "
   ]
  },
  {
   "cell_type": "code",
   "execution_count": 11,
   "metadata": {},
   "outputs": [
    {
     "name": "stdout",
     "output_type": "stream",
     "text": [
      "Training...\n",
      "Epoch  1, Loss:     1.9231 Validation Accuracy: 0.775200\n",
      "Epoch  2, Loss:     1.2248 Validation Accuracy: 0.806400\n",
      "Epoch  3, Loss:     0.7682 Validation Accuracy: 0.844400\n",
      "Epoch  4, Loss:     0.6209 Validation Accuracy: 0.870200\n",
      "Epoch  5, Loss:     0.4505 Validation Accuracy: 0.889600\n",
      "Epoch  6, Loss:     0.4127 Validation Accuracy: 0.905600\n",
      "Epoch  7, Loss:     0.3258 Validation Accuracy: 0.912800\n",
      "Epoch  8, Loss:     0.3315 Validation Accuracy: 0.922400\n",
      "Epoch  9, Loss:     0.3289 Validation Accuracy: 0.928200\n",
      "Epoch 10, Loss:     0.3345 Validation Accuracy: 0.931600\n",
      "Epoch 11, Loss:     0.1913 Validation Accuracy: 0.937600\n",
      "Epoch 12, Loss:     0.2912 Validation Accuracy: 0.941600\n",
      "Epoch 13, Loss:     0.1835 Validation Accuracy: 0.945800\n",
      "Epoch 14, Loss:     0.2209 Validation Accuracy: 0.946800\n",
      "Epoch 15, Loss:     0.2441 Validation Accuracy: 0.950200\n",
      "Epoch 16, Loss:     0.2250 Validation Accuracy: 0.953600\n",
      "Epoch 17, Loss:     0.2037 Validation Accuracy: 0.955200\n",
      "Epoch 18, Loss:     0.1876 Validation Accuracy: 0.955800\n",
      "Epoch 19, Loss:     0.1974 Validation Accuracy: 0.958800\n",
      "Epoch 20, Loss:     0.1587 Validation Accuracy: 0.961000\n",
      "Epoch 21, Loss:     0.1615 Validation Accuracy: 0.961400\n",
      "Epoch 22, Loss:     0.1762 Validation Accuracy: 0.963400\n",
      "Epoch 23, Loss:     0.1245 Validation Accuracy: 0.965400\n",
      "Epoch 24, Loss:     0.1331 Validation Accuracy: 0.965600\n",
      "Epoch 25, Loss:     0.1330 Validation Accuracy: 0.967800\n",
      "Epoch 26, Loss:     0.1075 Validation Accuracy: 0.969000\n",
      "Epoch 27, Loss:     0.1752 Validation Accuracy: 0.970400\n",
      "Epoch 28, Loss:     0.1262 Validation Accuracy: 0.970600\n",
      "Epoch 29, Loss:     0.1082 Validation Accuracy: 0.972200\n",
      "Epoch 30, Loss:     0.1060 Validation Accuracy: 0.972200\n",
      "Epoch 31, Loss:     0.1344 Validation Accuracy: 0.973400\n",
      "Epoch 32, Loss:     0.0972 Validation Accuracy: 0.974600\n",
      "Epoch 33, Loss:     0.0850 Validation Accuracy: 0.973400\n",
      "Epoch 34, Loss:     0.1329 Validation Accuracy: 0.974000\n",
      "Epoch 35, Loss:     0.1218 Validation Accuracy: 0.974800\n",
      "Epoch 36, Loss:     0.0945 Validation Accuracy: 0.975600\n",
      "Epoch 37, Loss:     0.0828 Validation Accuracy: 0.976400\n",
      "Epoch 38, Loss:     0.0767 Validation Accuracy: 0.976400\n",
      "Epoch 39, Loss:     0.0799 Validation Accuracy: 0.977600\n",
      "Epoch 40, Loss:     0.0623 Validation Accuracy: 0.978000\n",
      "Epoch 41, Loss:     0.0982 Validation Accuracy: 0.978200\n",
      "Epoch 42, Loss:     0.0857 Validation Accuracy: 0.977200\n",
      "Epoch 43, Loss:     0.0696 Validation Accuracy: 0.978000\n",
      "Epoch 44, Loss:     0.0841 Validation Accuracy: 0.979400\n",
      "Epoch 45, Loss:     0.0601 Validation Accuracy: 0.979600\n",
      "Epoch 46, Loss:     0.0800 Validation Accuracy: 0.979800\n",
      "Epoch 47, Loss:     0.0900 Validation Accuracy: 0.979600\n",
      "Epoch 48, Loss:     0.0960 Validation Accuracy: 0.980600\n",
      "Epoch 49, Loss:     0.0430 Validation Accuracy: 0.979600\n",
      "Epoch 50, Loss:     0.0607 Validation Accuracy: 0.980200\n",
      "Epoch 51, Loss:     0.0594 Validation Accuracy: 0.980800\n",
      "Epoch 52, Loss:     0.0775 Validation Accuracy: 0.981200\n",
      "Epoch 53, Loss:     0.0413 Validation Accuracy: 0.981200\n",
      "Epoch 54, Loss:     0.0656 Validation Accuracy: 0.981600\n",
      "Epoch 55, Loss:     0.0461 Validation Accuracy: 0.981800\n",
      "Epoch 56, Loss:     0.0629 Validation Accuracy: 0.982000\n",
      "Epoch 57, Loss:     0.0348 Validation Accuracy: 0.983600\n",
      "Epoch 58, Loss:     0.0705 Validation Accuracy: 0.983000\n",
      "Epoch 59, Loss:     0.0614 Validation Accuracy: 0.983400\n",
      "Epoch 60, Loss:     0.0298 Validation Accuracy: 0.984000\n",
      "Epoch 61, Loss:     0.0529 Validation Accuracy: 0.983800\n",
      "Epoch 62, Loss:     0.0364 Validation Accuracy: 0.984400\n",
      "Epoch 63, Loss:     0.0517 Validation Accuracy: 0.983400\n",
      "Epoch 64, Loss:     0.0438 Validation Accuracy: 0.984800\n",
      "Epoch 65, Loss:     0.0439 Validation Accuracy: 0.984400\n",
      "Epoch 66, Loss:     0.0499 Validation Accuracy: 0.984200\n",
      "Epoch 67, Loss:     0.0514 Validation Accuracy: 0.984000\n",
      "Epoch 68, Loss:     0.0342 Validation Accuracy: 0.984200\n",
      "Epoch 69, Loss:     0.0292 Validation Accuracy: 0.985200\n",
      "Epoch 70, Loss:     0.0806 Validation Accuracy: 0.984800\n"
     ]
    }
   ],
   "source": [
    "save_model_path = './numbers_network_model'\n",
    "\n",
    "print('Training...')\n",
    "with tf.Session() as sess:\n",
    "    # Initializing the variables\n",
    "    sess.run(tf.global_variables_initializer())\n",
    "    \n",
    "    # Training cycle\n",
    "    for epoch in range(epochs):\n",
    "        # Loop over all batches\n",
    "        for i in range(mnist.train.num_examples//batch_size):\n",
    "            batch = mnist.train.next_batch(batch_size)\n",
    "            batch_features = batch[0].reshape((-1, 28, 28, 1))\n",
    "            batch_labels = batch[1]\n",
    "            train_neural_network(sess, optimizer, batch_features, batch_labels)\n",
    "            \n",
    "        print_training_stats(sess, epoch, batch_features, batch_labels, \n",
    "                             mnist.validation.images.reshape((-1, 28, 28, 1)), mnist.validation.labels,\n",
    "                             cost, accuracy)\n",
    "            \n",
    "    # Save Model\n",
    "    saver = tf.train.Saver()\n",
    "    save_path = saver.save(sess, save_model_path)\n",
    "    sess.close()"
   ]
  },
  {
   "cell_type": "markdown",
   "metadata": {},
   "source": [
    "Testing the model predictions"
   ]
  },
  {
   "cell_type": "code",
   "execution_count": 14,
   "metadata": {},
   "outputs": [],
   "source": [
    "# Testing helpers\n",
    "\n",
    "def display_image_predictions(features, labels, predictions, n_classes):\n",
    "   \n",
    "    label_names = ['Zero', 'One', 'Two', 'Three', 'Four', 'Five', 'Six', 'Seven', 'Eight', 'Nine']\n",
    "    label_binarizer = LabelBinarizer()\n",
    "    label_binarizer.fit(range(n_classes))\n",
    "    label_ids = label_binarizer.inverse_transform(np.array(labels))\n",
    "\n",
    "    fig, axies = plt.subplots(nrows=4, ncols=2)\n",
    "    fig.tight_layout()\n",
    "    fig.suptitle('Softmax Predictions', fontsize=20, y=1.1)\n",
    "\n",
    "    n_predictions = 3\n",
    "    margin = 0.05\n",
    "    ind = np.arange(n_predictions)\n",
    "    width = (1. - 2. * margin) / n_predictions\n",
    "\n",
    "    for image_i, (feature, label_id, pred_indicies, pred_values) in enumerate(zip(features, label_ids, predictions.indices, predictions.values)):\n",
    "        pred_names = [label_names[pred_i] for pred_i in pred_indicies]\n",
    "        correct_name = label_names[label_id]\n",
    "        axies[image_i][0].imshow(feature.reshape((feature.shape[0],feature.shape[1])))\n",
    "        axies[image_i][0].set_title(correct_name)\n",
    "        axies[image_i][0].set_axis_off()\n",
    "\n",
    "        axies[image_i][1].barh(ind + margin, pred_values[::-1], width)\n",
    "        axies[image_i][1].set_yticks(ind + margin)\n",
    "        axies[image_i][1].set_yticklabels(pred_names[::-1])\n",
    "        axies[image_i][1].set_xticks([0, 0.5, 1.0])\n"
   ]
  },
  {
   "cell_type": "code",
   "execution_count": 15,
   "metadata": {},
   "outputs": [
    {
     "name": "stdout",
     "output_type": "stream",
     "text": [
      "INFO:tensorflow:Restoring parameters from ./numbers_network_model\n",
      "INFO:tensorflow:Froze 8 variables.\n",
      "Converted 8 variables to const ops.\n",
      "INFO:tensorflow:Restoring parameters from ./numbers_network_model\n",
      "Testing Accuracy: 0.9854029605263158\n",
      "\n"
     ]
    },
    {
     "data": {
      "image/png": "[encoded data removed]",
      "text/plain": [
       "<Figure size 432x288 with 8 Axes>"
      ]
     },
     "metadata": {
      "image/png": {
       "height": 319,
       "width": 355
      }
     },
     "output_type": "display_data"
    }
   ],
   "source": [
    "%matplotlib inline\n",
    "%config InlineBackend.figure_format = 'retina'\n",
    "\n",
    "import random\n",
    "\n",
    "n_samples = 4\n",
    "top_n_predictions = 3\n",
    "save_model_path = './numbers_network_model'\n",
    "meta_path = save_model_path + '.meta'\n",
    "pb_model_name = 'mnist_model.pb'\n",
    "\n",
    "def save_pb_model():\n",
    "    loaded_graph = tf.Graph()\n",
    "    with tf.Session(graph=loaded_graph) as sess:\n",
    "        loader = tf.train.import_meta_graph(meta_path)\n",
    "        loader.restore(sess, save_model_path)\n",
    "\n",
    "        frozen_graph_def = tf.graph_util.convert_variables_to_constants(\n",
    "            sess,\n",
    "            loaded_graph.as_graph_def(),\n",
    "            ['predictions'])\n",
    "\n",
    "        with open(pb_model_name, 'wb') as f:\n",
    "            f.write(frozen_graph_def.SerializeToString())\n",
    "        sess.close()\n",
    "\n",
    "def test_model():\n",
    "    \n",
    "    test_features = mnist.test.images.reshape((-1, 28, 28, 1))\n",
    "    test_labels = mnist.test.labels\n",
    "    \n",
    "    loaded_graph = tf.Graph()\n",
    "\n",
    "    with tf.Session(graph=loaded_graph) as sess:\n",
    "        # Load model\n",
    "        loader = tf.train.import_meta_graph(meta_path)\n",
    "        loader.restore(sess, save_model_path)\n",
    "        \n",
    "        # Getting Tensors from loaded model\n",
    "        loaded_x = loaded_graph.get_tensor_by_name('x:0')\n",
    "        loaded_y = loaded_graph.get_tensor_by_name('y:0')\n",
    "        loaded_logits = loaded_graph.get_tensor_by_name('logits:0')\n",
    "        loaded_acc = loaded_graph.get_tensor_by_name('accuracy:0')\n",
    "        \n",
    "        test_batch_acc_total = 0\n",
    "        test_batch_count = 0\n",
    "        \n",
    "        for i in range(mnist.test.num_examples//batch_size):\n",
    "            batch = mnist.test.next_batch(batch_size)\n",
    "            test_feature_batch = batch[0].reshape((-1, 28, 28, 1))\n",
    "            test_label_batch = batch[1]\n",
    "            test_batch_acc_total += sess.run(\n",
    "                loaded_acc,\n",
    "                feed_dict={loaded_x: test_feature_batch, loaded_y: test_label_batch })\n",
    "            test_batch_count += 1\n",
    "\n",
    "        print('Testing Accuracy: {}\\n'.format(test_batch_acc_total/test_batch_count))\n",
    "\n",
    "        random_test_features, random_test_labels = tuple(zip(*random.sample(list(zip(test_features, test_labels)), n_samples)))\n",
    "        random_test_predictions = sess.run(\n",
    "            tf.nn.top_k(tf.nn.softmax(loaded_logits), top_n_predictions),\n",
    "            feed_dict={loaded_x: random_test_features, loaded_y: random_test_labels })\n",
    "        display_image_predictions(random_test_features, random_test_labels, random_test_predictions, 10)\n",
    "        sess.close()\n",
    "        \n",
    "save_pb_model()\n",
    "test_model()\n",
    "    "
   ]
  },
  {
   "cell_type": "code",
   "execution_count": null,
   "metadata": {
    "collapsed": true
   },
   "outputs": [],
   "source": []
  }
 ],
 "metadata": {
  "kernelspec": {
   "display_name": "Python 3",
   "language": "python",
   "name": "python3"
  },
  "language_info": {
   "codemirror_mode": {
    "name": "ipython",
    "version": 3
   },
   "file_extension": ".py",
   "mimetype": "text/x-python",
   "name": "python",
   "nbconvert_exporter": "python",
   "pygments_lexer": "ipython3",
   "version": "3.6.3"
  },
  "widgets": {
   "state": {},
   "version": "1.1.2"
  }
 },
 "nbformat": 4,
 "nbformat_minor": 2
}
